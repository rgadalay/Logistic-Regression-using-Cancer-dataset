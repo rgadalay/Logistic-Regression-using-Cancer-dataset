{
 "cells": [
  {
   "cell_type": "markdown",
   "metadata": {},
   "source": [
    "# LOGISTIC REGRESSION IMPLEMENTATION"
   ]
  },
  {
   "cell_type": "markdown",
   "metadata": {},
   "source": [
    "# Packages importing"
   ]
  },
  {
   "cell_type": "code",
   "execution_count": 1,
   "metadata": {},
   "outputs": [],
   "source": [
    "import pandas as pd\n",
    "import numpy as np\n",
    "from sklearn.model_selection import train_test_split\n",
    "import matplotlib.pyplot as plt \n",
    "from sklearn.metrics import confusion_matrix \n",
    "from sklearn.metrics import accuracy_score \n",
    "from sklearn import metrics"
   ]
  },
  {
   "cell_type": "markdown",
   "metadata": {},
   "source": [
    "# Cancer DataSet Loading"
   ]
  },
  {
   "cell_type": "code",
   "execution_count": 2,
   "metadata": {
    "scrolled": true
   },
   "outputs": [],
   "source": [
    "dataset_data=pd.read_csv(\"wdbc.dataset\",header=None)"
   ]
  },
  {
   "cell_type": "markdown",
   "metadata": {},
   "source": [
    "# Dropping column id"
   ]
  },
  {
   "cell_type": "code",
   "execution_count": 3,
   "metadata": {
    "scrolled": false
   },
   "outputs": [],
   "source": [
    "dataset_data.drop(0,axis=1,inplace=True)"
   ]
  },
  {
   "cell_type": "markdown",
   "metadata": {},
   "source": [
    "# Mapping M to 1 and B to 0 and dropping the column to do normalization"
   ]
  },
  {
   "cell_type": "code",
   "execution_count": 4,
   "metadata": {},
   "outputs": [],
   "source": [
    "dataset_data[1]=dataset_data[1].map({'M':1,'B':0})\n",
    "diagnosis_details=dataset_data[1].values\n",
    "\n",
    "exact_data=dataset_data.drop(1,axis=1)"
   ]
  },
  {
   "cell_type": "markdown",
   "metadata": {},
   "source": [
    "# Normalization"
   ]
  },
  {
   "cell_type": "code",
   "execution_count": 5,
   "metadata": {},
   "outputs": [
    {
     "name": "stdout",
     "output_type": "stream",
     "text": [
      "           2         3         4         5         6         7         8   \\\n",
      "0    0.521037  0.022658  0.545989  0.363733  0.593753  0.792037  0.703140   \n",
      "1    0.643144  0.272574  0.615783  0.501591  0.289880  0.181768  0.203608   \n",
      "2    0.601496  0.390260  0.595743  0.449417  0.514309  0.431017  0.462512   \n",
      "3    0.210090  0.360839  0.233501  0.102906  0.811321  0.811361  0.565604   \n",
      "4    0.629893  0.156578  0.630986  0.489290  0.430351  0.347893  0.463918   \n",
      "5    0.258839  0.202570  0.267984  0.141506  0.678613  0.461996  0.369728   \n",
      "6    0.533343  0.347311  0.523875  0.380276  0.379164  0.274891  0.264058   \n",
      "7    0.318472  0.376057  0.320710  0.184263  0.598267  0.445126  0.219447   \n",
      "8    0.284869  0.409537  0.302052  0.159618  0.674099  0.533157  0.435567   \n",
      "9    0.259312  0.484613  0.277659  0.140997  0.595558  0.675480  0.532568   \n",
      "10   0.427801  0.457558  0.407090  0.277540  0.265686  0.145114  0.077296   \n",
      "11   0.416442  0.276632  0.413309  0.270414  0.401462  0.336850  0.233224   \n",
      "12   0.576885  0.510315  0.612328  0.415483  0.404171  0.694497  0.483833   \n",
      "13   0.419755  0.481569  0.414000  0.271135  0.283290  0.247899  0.232849   \n",
      "14   0.319419  0.436253  0.344206  0.184433  0.545906  0.643887  0.498594   \n",
      "15   0.357755  0.602976  0.365835  0.218579  0.553128  0.429790  0.384021   \n",
      "16   0.364381  0.352384  0.352083  0.229480  0.415636  0.161401  0.173266   \n",
      "17   0.433007  0.370984  0.444406  0.277964  0.581114  0.560763  0.403468   \n",
      "18   0.607175  0.420697  0.595743  0.473595  0.412386  0.255567  0.346532   \n",
      "19   0.310426  0.157254  0.301776  0.179343  0.407692  0.189896  0.156139   \n",
      "20   0.288655  0.202908  0.289130  0.159703  0.495351  0.330102  0.107029   \n",
      "21   0.119409  0.092323  0.114367  0.055313  0.449309  0.139685  0.069260   \n",
      "22   0.395617  0.153872  0.405708  0.237922  0.493545  0.595424  0.486645   \n",
      "23   0.671068  0.450795  0.645498  0.534677  0.376004  0.254033  0.257029   \n",
      "24   0.457617  0.394657  0.457536  0.322842  0.536878  0.387461  0.357310   \n",
      "25   0.480808  0.226243  0.498998  0.326278  0.595558  0.638672  0.522259   \n",
      "26   0.359648  0.399729  0.370534  0.212641  0.476393  0.513527  0.333880   \n",
      "27   0.550381  0.356442  0.541151  0.403181  0.377088  0.267530  0.349110   \n",
      "28   0.393724  0.526209  0.405017  0.249799  0.501670  0.461076  0.394330   \n",
      "29   0.501160  0.180588  0.492088  0.344263  0.413830  0.295442  0.231373   \n",
      "..        ...       ...       ...       ...       ...       ...       ...   \n",
      "539  0.033603  0.531958  0.031442  0.011410  0.307394  0.308325  0.216776   \n",
      "540  0.215770  0.159959  0.213254  0.110032  0.426198  0.284093  0.157849   \n",
      "541  0.354442  0.516740  0.359478  0.217561  0.322651  0.317833  0.236410   \n",
      "542  0.367220  0.531282  0.351807  0.222736  0.271915  0.161831  0.096181   \n",
      "543  0.294808  0.620561  0.283947  0.167508  0.307665  0.151494  0.069986   \n",
      "544  0.326045  0.371660  0.317739  0.187190  0.389546  0.252807  0.086410   \n",
      "545  0.314213  0.457220  0.299910  0.182269  0.359574  0.147506  0.069681   \n",
      "546  0.158029  0.224552  0.148711  0.076946  0.376546  0.093737  0.023711   \n",
      "547  0.155190  0.232330  0.152443  0.075207  0.326262  0.187964  0.102109   \n",
      "548  0.127881  0.325668  0.119273  0.060318  0.291415  0.094841  0.054756   \n",
      "549  0.181693  0.490362  0.173450  0.092513  0.264422  0.143059  0.036270   \n",
      "550  0.183587  0.398039  0.170824  0.092047  0.195721  0.070210  0.000000   \n",
      "551  0.196365  0.430504  0.191417  0.099639  0.388463  0.191890  0.113027   \n",
      "552  0.273984  0.666892  0.259554  0.154571  0.272005  0.070425  0.046790   \n",
      "553  0.111316  0.413595  0.105176  0.051113  0.359032  0.112478  0.093627   \n",
      "554  0.279190  0.649645  0.267501  0.157285  0.258193  0.119195  0.145150   \n",
      "555  0.156609  0.605343  0.151199  0.075461  0.340074  0.175449  0.140558   \n",
      "556  0.150457  0.334122  0.144703  0.071347  0.430351  0.170726  0.011774   \n",
      "557  0.115576  0.614474  0.106903  0.054210  0.258193  0.093031  0.000000   \n",
      "558  0.360121  0.438620  0.363486  0.217858  0.289790  0.348506  0.241097   \n",
      "559  0.214350  0.480893  0.212356  0.110286  0.360928  0.253727  0.260544   \n",
      "560  0.334564  0.589787  0.328865  0.193807  0.421233  0.285933  0.104545   \n",
      "561  0.199678  0.664863  0.185751  0.102863  0.197346  0.049690  0.000000   \n",
      "562  0.389938  0.707136  0.411927  0.243224  0.470976  0.580701  0.597470   \n",
      "563  0.659709  0.520122  0.685578  0.510498  0.517017  0.626403  0.743674   \n",
      "564  0.690000  0.428813  0.678668  0.566490  0.526948  0.296055  0.571462   \n",
      "565  0.622320  0.626987  0.604036  0.474019  0.407782  0.257714  0.337395   \n",
      "566  0.455251  0.621238  0.445788  0.303118  0.288165  0.254340  0.216753   \n",
      "567  0.644564  0.663510  0.665538  0.475716  0.588336  0.790197  0.823336   \n",
      "568  0.036869  0.501522  0.028540  0.015907  0.000000  0.074351  0.000000   \n",
      "\n",
      "           9         10        11    ...           22        23        24  \\\n",
      "0    0.731113  0.686364  0.605518    ...     0.620776  0.141525  0.668310   \n",
      "1    0.348757  0.379798  0.141323    ...     0.606901  0.303571  0.539818   \n",
      "2    0.635686  0.509596  0.211247    ...     0.556386  0.360075  0.508442   \n",
      "3    0.522863  0.776263  1.000000    ...     0.248310  0.385928  0.241347   \n",
      "4    0.518390  0.378283  0.186816    ...     0.519744  0.123934  0.506948   \n",
      "5    0.402038  0.518687  0.551179    ...     0.268232  0.312633  0.263908   \n",
      "6    0.367793  0.370707  0.157119    ...     0.531839  0.416844  0.511928   \n",
      "7    0.297465  0.573737  0.517060    ...     0.324795  0.429638  0.299766   \n",
      "8    0.464861  0.651515  0.504002    ...     0.268943  0.498667  0.277852   \n",
      "9    0.424602  0.489899  0.683867    ...     0.254714  0.763859  0.235271   \n",
      "10   0.165159  0.236364  0.147641    ...     0.400569  0.582623  0.365506   \n",
      "11   0.328330  0.394949  0.228728    ...     0.444326  0.406716  0.428756   \n",
      "12   0.555666  0.675253  0.590564    ...     0.463536  0.477612  0.504457   \n",
      "13   0.266600  0.397475  0.072030    ...     0.316969  0.416844  0.306738   \n",
      "14   0.398857  0.509596  0.565712    ...     0.252579  0.532783  0.290801   \n",
      "15   0.366004  0.627778  0.438290    ...     0.339025  0.669243  0.367000   \n",
      "16   0.261382  0.265657  0.195029    ...     0.396300  0.502665  0.363514   \n",
      "17   0.510934  0.557576  0.497051    ...     0.463536  0.518657  0.430251   \n",
      "18   0.472068  0.263636  0.084035    ...     0.689790  0.502665  0.679267   \n",
      "19   0.237624  0.416667  0.162174    ...     0.255425  0.192964  0.245480   \n",
      "20   0.154573  0.458081  0.382266    ...     0.233725  0.225746  0.227501   \n",
      "21   0.103181  0.381313  0.402064    ...     0.081821  0.097015  0.073310   \n",
      "22   0.484891  0.737879  0.428812    ...     0.360726  0.188166  0.371981   \n",
      "23   0.429026  0.358081  0.059393    ...     0.755603  0.628198  0.685243   \n",
      "24   0.455765  0.472222  0.280960    ...     0.659196  0.520789  0.630460   \n",
      "25   0.696322  1.000000  0.509056    ...     0.509427  0.250000  0.507944   \n",
      "26   0.436531  0.602020  0.406066    ...     0.344717  0.564765  0.358534   \n",
      "27   0.384245  0.321717  0.148062    ...     0.475987  0.406183  0.445690   \n",
      "28   0.434940  0.437374  0.325190    ...     0.438990  0.658049  0.492505   \n",
      "29   0.395278  0.342929  0.242839    ...     0.429740  0.199893  0.420788   \n",
      "..        ...       ...       ...    ...          ...       ...       ...   \n",
      "539  0.067793  0.493434  0.580244    ...     0.026610  0.529584  0.020320   \n",
      "540  0.128926  0.382828  0.376158    ...     0.154038  0.204158  0.141292   \n",
      "541  0.193340  0.410101  0.283277    ...     0.294913  0.525320  0.314209   \n",
      "542  0.150447  0.393939  0.144061    ...     0.305229  0.540245  0.283829   \n",
      "543  0.162773  0.286869  0.165333    ...     0.229100  0.670309  0.209522   \n",
      "544  0.117744  0.282828  0.356361    ...     0.253291  0.339286  0.242841   \n",
      "545  0.121421  0.305051  0.169545    ...     0.263963  0.454957  0.234922   \n",
      "546  0.027311  0.416667  0.253791    ...     0.118107  0.259861  0.103143   \n",
      "547  0.121173  0.307576  0.361837    ...     0.103166  0.267058  0.102943   \n",
      "548  0.047788  0.262626  0.260952    ...     0.106724  0.361674  0.093082   \n",
      "549  0.040557  0.462626  0.280539    ...     0.181430  0.517857  0.166791   \n",
      "550  0.000000  0.303535  0.200505    ...     0.132693  0.339819  0.117884   \n",
      "551  0.112177  0.489899  0.327717    ...     0.145500  0.432836  0.136411   \n",
      "552  0.074503  0.241919  0.135004    ...     0.211313  0.639126  0.187709   \n",
      "553  0.063718  0.319192  0.332772    ...     0.068125  0.347281  0.062005   \n",
      "554  0.116451  0.255556  0.149958    ...     0.212024  0.632196  0.191394   \n",
      "555  0.136083  0.269192  0.238206    ...     0.103522  0.610075  0.095423   \n",
      "556  0.055467  0.369192  0.281171    ...     0.096763  0.289446  0.087006   \n",
      "557  0.000000  0.344444  0.223884    ...     0.091071  0.592217  0.080133   \n",
      "558  0.185686  0.198990  0.242418    ...     0.268588  0.406450  0.276358   \n",
      "559  0.204026  0.165657  0.331508    ...     0.161864  0.670043  0.158723   \n",
      "560  0.213917  0.240909  0.247473    ...     0.262184  0.563699  0.247971   \n",
      "561  0.000000  0.000000  0.106571    ...     0.141942  0.700426  0.123413   \n",
      "562  0.468638  0.539394  0.454086    ...     0.341160  0.820096  0.389910   \n",
      "563  0.732604  0.550000  0.396588    ...     0.581999  0.463486  0.640918   \n",
      "564  0.690358  0.336364  0.132056    ...     0.623266  0.383262  0.576174   \n",
      "565  0.486630  0.349495  0.113100    ...     0.560655  0.699094  0.520892   \n",
      "566  0.263519  0.267677  0.137321    ...     0.393099  0.589019  0.379949   \n",
      "567  0.755467  0.675253  0.425442    ...     0.633582  0.730277  0.668310   \n",
      "568  0.000000  0.266162  0.187026    ...     0.054287  0.489072  0.043578   \n",
      "\n",
      "           25        26        27        28        29        30        31  \n",
      "0    0.450698  0.601136  0.619292  0.568610  0.912027  0.598462  0.418864  \n",
      "1    0.435214  0.347553  0.154563  0.192971  0.639175  0.233590  0.222878  \n",
      "2    0.374508  0.483590  0.385375  0.359744  0.835052  0.403706  0.213433  \n",
      "3    0.094008  0.915472  0.814012  0.548642  0.884880  1.000000  0.773711  \n",
      "4    0.341575  0.437364  0.172415  0.319489  0.558419  0.157500  0.142595  \n",
      "5    0.136748  0.712739  0.482784  0.427716  0.598282  0.477035  0.454939  \n",
      "6    0.349194  0.482269  0.223448  0.302236  0.663918  0.295289  0.187853  \n",
      "7    0.174941  0.622268  0.330753  0.213898  0.534708  0.321506  0.393939  \n",
      "8    0.136183  0.654626  0.497531  0.430511  0.707904  0.554504  0.342123  \n",
      "9    0.129326  0.753682  1.000000  0.882588  0.759450  0.552139  1.000000  \n",
      "10   0.237122  0.309912  0.124002  0.116534  0.342784  0.272620  0.193362  \n",
      "11   0.273742  0.451892  0.517711  0.316693  0.621993  0.438991  0.326381  \n",
      "12   0.281852  0.214819  0.352194  0.290655  0.607216  0.317564  0.309983  \n",
      "13   0.169903  0.276894  0.160191  0.185463  0.384536  0.245220  0.051358  \n",
      "14   0.125959  0.620287  0.723006  0.554553  0.758763  0.400355  0.577594  \n",
      "15   0.186296  0.638117  0.611627  0.561182  0.588316  0.522965  0.518562  \n",
      "16   0.234172  0.496797  0.155048  0.232748  0.552921  0.288587  0.177883  \n",
      "17   0.277674  0.711418  0.384211  0.382109  0.712371  0.422038  0.388036  \n",
      "18   0.543846  0.528495  0.279138  0.429073  0.820619  0.237138  0.138463  \n",
      "19   0.129276  0.480948  0.145540  0.190895  0.442612  0.278336  0.115112  \n",
      "20   0.109443  0.396421  0.242852  0.150958  0.250275  0.319141  0.175718  \n",
      "21   0.031877  0.404345  0.084903  0.070823  0.213986  0.174453  0.148826  \n",
      "22   0.195561  0.447930  0.551183  0.503594  0.822337  0.611473  0.291355  \n",
      "23   0.597179  0.455194  0.225776  0.251997  0.690378  0.247782  0.132625  \n",
      "24   0.498869  0.721984  0.320662  0.375000  0.719931  0.403706  0.266299  \n",
      "25   0.313557  0.550287  0.356657  0.307748  0.876289  0.493002  0.333596  \n",
      "26   0.174916  0.537080  0.618030  0.442412  0.928179  0.532032  0.475272  \n",
      "27   0.299302  0.413590  0.178916  0.275240  0.512027  0.152967  0.125738  \n",
      "28   0.266368  0.613683  0.566318  0.505990  0.695533  0.485314  0.286764  \n",
      "29   0.256046  0.358780  0.246345  0.198802  0.500344  0.234772  0.158402  \n",
      "..        ...       ...       ...       ...       ...       ...       ...  \n",
      "539  0.009438  0.583966  0.270794  0.271006  0.171821  0.241474  0.338187  \n",
      "540  0.066998  0.418213  0.179013  0.143530  0.237732  0.150601  0.172504  \n",
      "541  0.153288  0.414911  0.381203  0.322684  0.414089  0.319732  0.309983  \n",
      "542  0.157589  0.230007  0.107023  0.128674  0.376289  0.228070  0.095238  \n",
      "543  0.109221  0.237932  0.107508  0.084824  0.273471  0.178987  0.061590  \n",
      "544  0.123722  0.364723  0.171154  0.109984  0.235223  0.134831  0.195986  \n",
      "545  0.133848  0.333025  0.120703  0.083786  0.246529  0.212300  0.095041  \n",
      "546  0.049081  0.378591  0.059309  0.035016  0.081821  0.219988  0.124295  \n",
      "547  0.042322  0.494816  0.191431  0.142412  0.286357  0.221959  0.260724  \n",
      "548  0.043993  0.321799  0.066139  0.074681  0.132165  0.194559  0.158468  \n",
      "549  0.078746  0.325101  0.131958  0.049473  0.112165  0.294500  0.139184  \n",
      "550  0.055815  0.191045  0.044814  0.000000  0.000000  0.176030  0.071363  \n",
      "551  0.061787  0.247837  0.146414  0.124920  0.220378  0.316184  0.165814  \n",
      "552  0.100644  0.344912  0.076753  0.069113  0.223299  0.165977  0.064279  \n",
      "553  0.027182  0.258403  0.054031  0.063842  0.088110  0.171496  0.123901  \n",
      "554  0.100890  0.340289  0.130696  0.194808  0.223127  0.159077  0.113997  \n",
      "555  0.042371  0.443968  0.139428  0.159744  0.313643  0.130298  0.182277  \n",
      "556  0.039840  0.365383  0.089948  0.008027  0.076701  0.137394  0.081202  \n",
      "557  0.035735  0.238592  0.042970  0.000000  0.000000  0.179381  0.096091  \n",
      "558  0.134757  0.207555  0.281175  0.292492  0.379725  0.136606  0.163977  \n",
      "559  0.071028  0.387176  0.217724  0.289936  0.331718  0.107826  0.211728  \n",
      "560  0.128170  0.349534  0.193178  0.105911  0.360137  0.135029  0.184770  \n",
      "561  0.062525  0.141980  0.026826  0.000000  0.000000  0.000197  0.026302  \n",
      "562  0.179365  0.465760  0.741634  0.934505  0.809622  0.497536  0.563164  \n",
      "563  0.401543  0.459156  0.379651  0.527077  0.873540  0.268874  0.286567  \n",
      "564  0.452664  0.461137  0.178527  0.328035  0.761512  0.097575  0.105667  \n",
      "565  0.379915  0.300007  0.159997  0.256789  0.559450  0.198502  0.074315  \n",
      "566  0.230731  0.282177  0.273705  0.271805  0.487285  0.128721  0.151909  \n",
      "567  0.402035  0.619626  0.815758  0.749760  0.910653  0.497142  0.452315  \n",
      "568  0.020497  0.124084  0.036043  0.000000  0.000000  0.257441  0.100682  \n",
      "\n",
      "[569 rows x 30 columns]\n"
     ]
    }
   ],
   "source": [
    "normalized_data=(exact_data - np.min(exact_data))/(np.max(exact_data) - np.min(exact_data))\n",
    "print(normalized_data)"
   ]
  },
  {
   "cell_type": "markdown",
   "metadata": {},
   "source": [
    "# Splitting the data into 80% training data, 10% validation data and 10%testing data\n"
   ]
  },
  {
   "cell_type": "code",
   "execution_count": 6,
   "metadata": {},
   "outputs": [
    {
     "name": "stdout",
     "output_type": "stream",
     "text": [
      "x training:  (30, 462)\n",
      "x testing:  (30, 56)\n",
      "x validation:  (30, 51)\n",
      "y training:  (462,)\n",
      "y testing:  (56,)\n",
      "y validation:  (51,)\n"
     ]
    }
   ],
   "source": [
    "from sklearn.model_selection import train_test_split \n",
    "\n",
    "x_testing, x_training, y_testing, y_training = train_test_split(normalized_data,diagnosis_details, test_size = 0.9, random_state = 42) \n",
    "\n",
    "x_validation, x_training, y_validation, y_training = train_test_split(x_training, y_training, test_size = 0.9, random_state = 5) \n",
    "\n",
    "x_training = x_training.T \n",
    "y_training = y_training.T\n",
    "\n",
    "x_testing = x_testing.T \n",
    "y_testing = y_testing.T\n",
    "\n",
    "x_validation=x_validation.T\n",
    "y_validation=y_validation.T\n",
    "\n",
    "print(\"x training: \", x_training.shape) \n",
    "print(\"x testing: \", x_testing.shape) \n",
    "print(\"x validation: \", x_validation.shape)\n",
    "print(\"y training: \", y_training.shape) \n",
    "print(\"y testing: \", y_testing.shape) \n",
    "print(\"y validation: \", y_validation.shape)\n",
    "\n"
   ]
  },
  {
   "cell_type": "markdown",
   "metadata": {},
   "source": [
    "# Initializing weights and bias"
   ]
  },
  {
   "cell_type": "code",
   "execution_count": 7,
   "metadata": {},
   "outputs": [],
   "source": [
    "def initialize_weights_and_biases(dimension): \n",
    "    weight = np.full((dimension, 1), 0.01) \n",
    "    bias = 0.0\n",
    "    return weight, bias"
   ]
  },
  {
   "cell_type": "markdown",
   "metadata": {},
   "source": [
    "# Declaring Sigmoid function"
   ]
  },
  {
   "cell_type": "code",
   "execution_count": 8,
   "metadata": {},
   "outputs": [],
   "source": [
    "def sigmoid_function(z): \n",
    "    sigmoid_value = 1/(1 + np.exp(-z)) \n",
    "    return sigmoid_value "
   ]
  },
  {
   "cell_type": "markdown",
   "metadata": {},
   "source": [
    "# Defining Loss function"
   ]
  },
  {
   "cell_type": "code",
   "execution_count": 9,
   "metadata": {},
   "outputs": [],
   "source": [
    "def loss_function(y_training,item):\n",
    "    loss_function_value=- y_training * np.log(item) - (1 - y_training) * np.log(1 - item) \n",
    "    return loss_function_value"
   ]
  },
  {
   "cell_type": "markdown",
   "metadata": {},
   "source": [
    "# Finding derivative of weights"
   ]
  },
  {
   "cell_type": "code",
   "execution_count": 10,
   "metadata": {},
   "outputs": [],
   "source": [
    "def derivative_weights(x_training,item,y_training):\n",
    "    dy=item-y_training\n",
    "    m=x_training.shape[1]\n",
    "    derivative_value=(np.dot(x_training,((dy).T)))/m\n",
    "    return derivative_value"
   ]
  },
  {
   "cell_type": "markdown",
   "metadata": {},
   "source": [
    "# Finding derivative of bias"
   ]
  },
  {
   "cell_type": "code",
   "execution_count": 11,
   "metadata": {},
   "outputs": [],
   "source": [
    "def derivative_bias(x_training,item,y_training):\n",
    "    dy=item-y_training\n",
    "    m=x_training.shape[1]\n",
    "    final_value=np.sum(dy)/m\n",
    "    return final_value"
   ]
  },
  {
   "cell_type": "markdown",
   "metadata": {},
   "source": [
    "# Data propagation"
   ]
  },
  {
   "cell_type": "code",
   "execution_count": 12,
   "metadata": {},
   "outputs": [],
   "source": [
    "def propagate(weight,bias,x_training,y_training):\n",
    "    #Calculating the linear function\n",
    "    z=np.dot(weight.T,x_training)+bias\n",
    "    #Calculating the sigmoid function\n",
    "    item=sigmoid_function(z)\n",
    "    #Calculating the loss function\n",
    "    loss_data=loss_function(y_training,item)\n",
    "    cost_data=(np.sum(loss_data)) / x_training.shape[1]\n",
    "    derivative_of_weights=derivative_weights(x_training,item,y_training)\n",
    "    derivative_of_bias=derivative_bias(x_training,item,y_training)\n",
    "    #Getting the required gradients data\n",
    "    gradients_data={\"derivative_weight\": derivative_of_weights, \"derivative_bias\": derivative_of_bias} \n",
    "    return cost_data,gradients_data\n"
   ]
  },
  {
   "cell_type": "markdown",
   "metadata": {},
   "source": [
    "# Parameters updation and graph plotting"
   ]
  },
  {
   "cell_type": "code",
   "execution_count": 13,
   "metadata": {},
   "outputs": [],
   "source": [
    "def parameters_updation(weight,bias,x_training,y_training,learning_rate,iterations_required):\n",
    "    cost_details=[]\n",
    "    cost_details2=[]\n",
    "    index=[]\n",
    "    for i in range(iterations_required):\n",
    "        cost,gradients=propagate(weight,bias,x_training,y_training)\n",
    "        cost_details.append(cost)\n",
    "        weight=weight-learning_rate*gradients[\"derivative_weight\"]\n",
    "        bias=bias-learning_rate*gradients[\"derivative_bias\"]\n",
    "        if i%10==0:\n",
    "            cost_details2.append(cost)\n",
    "            index.append(i)\n",
    "            print(\"cost for iteration % i is: % f\" %(i,cost))     \n",
    "    \n",
    "    #Plotting of the graph\n",
    "    parameters_updated={\"weights\":weight,\"biases\":bias}\n",
    "    plt.plot(index, cost_details2) \n",
    "    plt.xticks(index, rotation ='vertical') \n",
    "    plt.xlabel(\"Epochs\") \n",
    "    plt.ylabel(\"Accuracy\") \n",
    "    plt.show() \n",
    "    return parameters_updated, gradients, cost_details"
   ]
  },
  {
   "cell_type": "markdown",
   "metadata": {},
   "source": [
    "# Predictions on data"
   ]
  },
  {
   "cell_type": "code",
   "execution_count": 14,
   "metadata": {},
   "outputs": [],
   "source": [
    "def prediction(weight,bias,data_testing): \n",
    "    z=sigmoid_function(np.dot(weight.T, data_testing)+bias) \n",
    "    data_prediction=np.zeros((1, data_testing.shape[1])) \n",
    "   \n",
    "    for i in range(z.shape[1]): \n",
    "        if z[0, i]<=0.5: \n",
    "            data_prediction[0, i]=0\n",
    "        else: \n",
    "            data_prediction[0, i]=1\n",
    "    \n",
    "    return data_prediction"
   ]
  },
  {
   "cell_type": "markdown",
   "metadata": {},
   "source": [
    "# Logistic Regression"
   ]
  },
  {
   "cell_type": "code",
   "execution_count": 15,
   "metadata": {
    "scrolled": true
   },
   "outputs": [],
   "source": [
    "def logistic_regression_calculation(x_training,y_training,x_validation,y_validation,x_testing,y_testing,learning_rate,iterations_count): \n",
    "  \n",
    "    item=x_training.shape[0] \n",
    "    weight,bias=initialize_weights_and_biases(item) \n",
    "          \n",
    "    #calculating training related    \n",
    "    print(\"TRAINING ACCURACY:\")\n",
    "    parameters,gradients,cost_lists=parameters_updation(weight,bias,x_training,y_training,learning_rate,iterations_count) \n",
    "    prediction_of_training=prediction(parameters[\"weights\"], parameters[\"biases\"],x_training)\n",
    "    print(\"Training Accuracy: {} %\".format(100-np.mean(np.abs(prediction_of_training-y_training))*100)) \n",
    "    print(\"\\n\\n\\n\\n\")\n",
    "    \n",
    "    #calculating validation related\n",
    "    print(\"VALIDATION ACCURACY:\")\n",
    "    parameters_validation,gradients_validation,cost_lists_validation=parameters_updation(parameters[\"weights\"],parameters[\"biases\"],x_validation,y_validation,learning_rate,iterations_count)\n",
    "    prediction_of_validation=prediction(parameters_validation[\"weights\"], parameters_validation[\"biases\"],x_validation)\n",
    "    print(\"Validation Accuracy: {} %\".format(100-np.mean(np.abs(prediction_of_validation-y_validation))*100))\n",
    "    print(\"\\n\\n\\n\\n\")\n",
    "    \n",
    "    #calculating testing related \n",
    "    print(\"TESTING ACCURACY:\")\n",
    "    parameters_testing,gradients_testing,cost_lists_testing=parameters_updation(parameters_validation[\"weights\"],parameters_validation[\"biases\"],x_testing,y_testing,learning_rate,iterations_count)\n",
    "    prediction_of_testing=prediction(parameters_testing[\"weights\"],parameters_testing[\"biases\"],x_testing)\n",
    "    print(\"Test Accuracy: {} %\".format(100-np.mean(np.abs(prediction_of_testing-y_testing))*100))\n",
    "    print(\"\\n\\n\")\n",
    "    \n",
    "    \n",
    "    #Calculating Confusion Matrix on test data\n",
    "    final_testing_data=prediction_of_testing[0]\n",
    "    confusion_matrix_data=confusion_matrix(y_testing,final_testing_data)\n",
    "    print(\"Confusion Matrix is:\\n\",confusion_matrix_data)\n",
    "    \n",
    "    #Calculating Accuracy on test data\n",
    "    accuracy=np.abs(metrics.accuracy_score(y_testing,final_testing_data))*100\n",
    "    print(\"Accuracy on the test data is:\",accuracy,\"%\")\n",
    "\n",
    "    #Calculating Precision on test data\n",
    "    precision=np.abs(metrics.precision_score(y_testing,final_testing_data))*100\n",
    "    print(\"Precision on the test data is:\",precision,\"%\")\n",
    "\n",
    "    #Calculating Recall on test data\n",
    "    recall=np.abs(metrics.recall_score(y_testing,final_testing_data))*100\n",
    "    print(\"Recall on the test data is:\",recall,\"%\")\n",
    "    \n",
    "    \n"
   ]
  },
  {
   "cell_type": "code",
   "execution_count": 16,
   "metadata": {
    "scrolled": true
   },
   "outputs": [
    {
     "name": "stdout",
     "output_type": "stream",
     "text": [
      "TRAINING ACCURACY:\n",
      "cost for iteration  0 is:  0.693360\n",
      "cost for iteration  10 is:  0.572412\n",
      "cost for iteration  20 is:  0.495526\n",
      "cost for iteration  30 is:  0.441408\n",
      "cost for iteration  40 is:  0.401458\n",
      "cost for iteration  50 is:  0.370752\n",
      "cost for iteration  60 is:  0.346369\n",
      "cost for iteration  70 is:  0.326488\n",
      "cost for iteration  80 is:  0.309928\n",
      "cost for iteration  90 is:  0.295885\n"
     ]
    },
    {
     "data": {
      "image/png": "[encoded data removed]",
      "text/plain": [
       "<Figure size 432x288 with 1 Axes>"
      ]
     },
     "metadata": {
      "needs_background": "light"
     },
     "output_type": "display_data"
    },
    {
     "name": "stdout",
     "output_type": "stream",
     "text": [
      "Training Accuracy: 93.72294372294373 %\n",
      "\n",
      "\n",
      "\n",
      "\n",
      "\n",
      "VALIDATION ACCURACY:\n",
      "cost for iteration  0 is:  0.301061\n",
      "cost for iteration  10 is:  0.284053\n",
      "cost for iteration  20 is:  0.275616\n",
      "cost for iteration  30 is:  0.268112\n",
      "cost for iteration  40 is:  0.261361\n",
      "cost for iteration  50 is:  0.255242\n",
      "cost for iteration  60 is:  0.249660\n",
      "cost for iteration  70 is:  0.244538\n",
      "cost for iteration  80 is:  0.239814\n",
      "cost for iteration  90 is:  0.235435\n"
     ]
    },
    {
     "data": {
      "image/png": "[encoded data removed]",
      "text/plain": [
       "<Figure size 432x288 with 1 Axes>"
      ]
     },
     "metadata": {
      "needs_background": "light"
     },
     "output_type": "display_data"
    },
    {
     "name": "stdout",
     "output_type": "stream",
     "text": [
      "Validation Accuracy: 94.11764705882354 %\n",
      "\n",
      "\n",
      "\n",
      "\n",
      "\n",
      "TESTING ACCURACY:\n",
      "cost for iteration  0 is:  0.233899\n",
      "cost for iteration  10 is:  0.223741\n",
      "cost for iteration  20 is:  0.219017\n",
      "cost for iteration  30 is:  0.214722\n",
      "cost for iteration  40 is:  0.210709\n",
      "cost for iteration  50 is:  0.206947\n",
      "cost for iteration  60 is:  0.203411\n",
      "cost for iteration  70 is:  0.200079\n",
      "cost for iteration  80 is:  0.196934\n",
      "cost for iteration  90 is:  0.193958\n"
     ]
    },
    {
     "data": {
      "image/png": "[encoded data removed]",
      "text/plain": [
       "<Figure size 432x288 with 1 Axes>"
      ]
     },
     "metadata": {
      "needs_background": "light"
     },
     "output_type": "display_data"
    },
    {
     "name": "stdout",
     "output_type": "stream",
     "text": [
      "Test Accuracy: 92.85714285714286 %\n",
      "\n",
      "\n",
      "\n",
      "Confusion Matrix is:\n",
      " [[36  1]\n",
      " [ 3 16]]\n",
      "Accuracy on the test data is: 92.85714285714286 %\n",
      "Precision on the test data is: 94.11764705882352 %\n",
      "Recall on the test data is: 84.21052631578947 %\n"
     ]
    }
   ],
   "source": [
    "logistic_regression_calculation(x_training,y_training,x_validation,y_validation,x_testing,y_testing,learning_rate =0.5,iterations_count=100)"
   ]
  }
 ],
 "metadata": {
  "kernelspec": {
   "display_name": "Python 3",
   "language": "python",
   "name": "python3"
  },
  "language_info": {
   "codemirror_mode": {
    "name": "ipython",
    "version": 3
   },
   "file_extension": ".py",
   "mimetype": "text/x-python",
   "name": "python",
   "nbconvert_exporter": "python",
   "pygments_lexer": "ipython3",
   "version": "3.7.1"
  }
 },
 "nbformat": 4,
 "nbformat_minor": 2
}
